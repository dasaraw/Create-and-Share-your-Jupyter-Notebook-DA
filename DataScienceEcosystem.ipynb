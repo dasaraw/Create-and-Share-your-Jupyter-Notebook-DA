{
 "cells": [
  {
   "cell_type": "markdown",
   "id": "16ae92e2-d01c-418e-b75d-50155ce0145d",
   "metadata": {},
   "source": [
    "# Data Science Tools and Ecosystem\n"
   ]
  },
  {
   "cell_type": "markdown",
   "id": "ee51cc9a-8bc4-437d-86c9-86e0a9fedafe",
   "metadata": {},
   "source": [
    "#### In this notebook, Data Science Tools and Ecosystem are summarized.\n"
   ]
  },
  {
   "cell_type": "markdown",
   "id": "e4b36724-28b6-4f69-a27d-086d648a1346",
   "metadata": {},
   "source": [
    "#### **Objectives**\n",
    "- Some of the popular languages that Data Scientists use\n",
    "- Some of the commonly used libraries used by Data Scientists\n",
    "- Somw of the development environment open source tools used in data science"
   ]
  },
  {
   "cell_type": "markdown",
   "id": "5a8f45a9-1d97-4bd6-9201-3f28b8a24e9c",
   "metadata": {},
   "source": [
    "##### Some of the popular languages that Data Scientists use are:\n",
    "1. Python\n",
    "2. Java\n",
    "3. R"
   ]
  },
  {
   "cell_type": "markdown",
   "id": "4cefa1b7-c92d-4781-a857-1a549d8e8d6b",
   "metadata": {},
   "source": [
    "##### Some of the commonly used libraries used by Data Scientists include:\n",
    "* NumPy\n",
    "* Pandas\n",
    "* MatPlotLib"
   ]
  },
  {
   "cell_type": "markdown",
   "id": "487ac69c-819d-408f-bb26-3f32adb2d0e4",
   "metadata": {},
   "source": [
    "| Data Science Tools |\n",
    "|------|\n",
    "| Visual Studio Code |\n",
    "| Eclipse | \n",
    "| Git |\n"
   ]
  },
  {
   "cell_type": "code",
   "execution_count": 37,
   "id": "6a66a984-08d9-4506-988d-5fe6587ac12d",
   "metadata": {},
   "outputs": [
    {
     "data": {
      "text/plain": [
       "17"
      ]
     },
     "execution_count": 37,
     "metadata": {},
     "output_type": "execute_result"
    }
   ],
   "source": [
    "# Below are a few examples of evaluating arithmetic expressions in python.\n",
    "(3*4)+5\n"
   ]
  },
  {
   "cell_type": "code",
   "execution_count": 39,
   "id": "720f909e-aae9-4347-9f8f-bdbe40131154",
   "metadata": {},
   "outputs": [
    {
     "data": {
      "text/plain": [
       "3.3333333333333335"
      ]
     },
     "execution_count": 39,
     "metadata": {},
     "output_type": "execute_result"
    }
   ],
   "source": [
    "# This will convert 200 minutes to hours by diving by 60\n",
    "200 / 60"
   ]
  },
  {
   "cell_type": "markdown",
   "id": "e704174a-d289-4189-bc70-c7dcb4239731",
   "metadata": {},
   "source": [
    "## Author\n",
    "##### Dev Asarawala"
   ]
  },
  {
   "cell_type": "code",
   "execution_count": null,
   "id": "c5ee2414-d2cf-4a4b-99c7-296219139c48",
   "metadata": {},
   "outputs": [],
   "source": []
  }
 ],
 "metadata": {
  "kernelspec": {
   "display_name": "Python 3 (ipykernel)",
   "language": "python",
   "name": "python3"
  },
  "language_info": {
   "codemirror_mode": {
    "name": "ipython",
    "version": 3
   },
   "file_extension": ".py",
   "mimetype": "text/x-python",
   "name": "python",
   "nbconvert_exporter": "python",
   "pygments_lexer": "ipython3",
   "version": "3.12.4"
  }
 },
 "nbformat": 4,
 "nbformat_minor": 5
}
